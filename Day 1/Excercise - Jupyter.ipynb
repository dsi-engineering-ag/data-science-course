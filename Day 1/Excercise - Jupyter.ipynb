{
 "cells": [
  {
   "cell_type": "markdown",
   "metadata": {},
   "source": [
    "<img src=\"https://dsiag.ch/images/dsi_rgb.png\" alt=\"dsi logo\" width=\"100\" style=\"position: absolute; right: 0px;\"/>\n",
    "\n",
    "# Jupyter Notebooks\n",
    "\n",
    "Mit Jupyter können Code und Dokumentation zusammengeführt und direkt editiert werden"
   ]
  },
  {
   "cell_type": "markdown",
   "metadata": {},
   "source": [
    "## Zwei Arten von Zelllen\n",
    "\n",
    "Es gibt zwei Arten von Zellen: Markdown Zellen und Code Zellen.\n",
    "\n",
    "Neue Zellen sind stets Code Zellen. Über Cell -> Cell Type -> Markdown"
   ]
  },
  {
   "cell_type": "markdown",
   "metadata": {},
   "source": [
    "## Code Zellen\n",
    "\n",
    "\n",
    "\n",
    "Bei Code Zellen wird stets die Ausgabe des letzten Statements unter der Zelle ausgegeben.\n",
    "\n",
    "Die Zelle wird mittels Control-Enter ausgeführt\n"
   ]
  },
  {
   "cell_type": "code",
   "execution_count": 4,
   "metadata": {},
   "outputs": [
    {
     "data": {
      "text/plain": [
       "6"
      ]
     },
     "execution_count": 4,
     "metadata": {},
     "output_type": "execute_result"
    }
   ],
   "source": [
    "1+5"
   ]
  },
  {
   "cell_type": "markdown",
   "metadata": {},
   "source": [
    "Sollen mehrere Statements ausgegeben werden, kann dies über print() gemacht werden"
   ]
  },
  {
   "cell_type": "code",
   "execution_count": 5,
   "metadata": {},
   "outputs": [
    {
     "name": "stdout",
     "output_type": "stream",
     "text": [
      "Das Resultat von 2*3 ist\n",
      "6\n"
     ]
    }
   ],
   "source": [
    "print(\"Das Resultat von 2*3 ist\")\n",
    "\n",
    "print(2*3)"
   ]
  },
  {
   "cell_type": "markdown",
   "metadata": {},
   "source": [
    "## Command Palette\n",
    "\n",
    "\n",
    "Über Control-Shift-P kann die Command Palette aktivierte werden, wo alle Jupyter Commands ausgewählt werden können"
   ]
  },
  {
   "cell_type": "markdown",
   "metadata": {},
   "source": [
    "## Zwei verschiedene Modi\n",
    "\n",
    "### Command Mode \n",
    "\n",
    "Im Command Mode (linker Balken blau) kann zwischen den Zellen hin und her gewechselt werden oder es können z.B. neue Zellen eingefügt werden.\n",
    "\n",
    "Um in den Command Mode zu wechseln wird ESC gedrückt.\n",
    "\n",
    "### Edit Mode\n",
    "\n",
    "Im Edit Mode (linker Balken grün) werden Zellen editiert.\n",
    "\n",
    "Um in den Edit Mode zu wechseln wird ENTER gedrückt.\n",
    "\n"
   ]
  },
  {
   "cell_type": "markdown",
   "metadata": {},
   "source": [
    "# Python Cheatsheet\n",
    "\n",
    "https://www.pythoncheatsheet.org/"
   ]
  },
  {
   "cell_type": "code",
   "execution_count": 1,
   "metadata": {},
   "outputs": [
    {
     "name": "stdout",
     "output_type": "stream",
     "text": [
      "The Zen of Python, by Tim Peters\n",
      "\n",
      "Beautiful is better than ugly.\n",
      "Explicit is better than implicit.\n",
      "Simple is better than complex.\n",
      "Complex is better than complicated.\n",
      "Flat is better than nested.\n",
      "Sparse is better than dense.\n",
      "Readability counts.\n",
      "Special cases aren't special enough to break the rules.\n",
      "Although practicality beats purity.\n",
      "Errors should never pass silently.\n",
      "Unless explicitly silenced.\n",
      "In the face of ambiguity, refuse the temptation to guess.\n",
      "There should be one-- and preferably only one --obvious way to do it.\n",
      "Although that way may not be obvious at first unless you're Dutch.\n",
      "Now is better than never.\n",
      "Although never is often better than *right* now.\n",
      "If the implementation is hard to explain, it's a bad idea.\n",
      "If the implementation is easy to explain, it may be a good idea.\n",
      "Namespaces are one honking great idea -- let's do more of those!\n"
     ]
    }
   ],
   "source": [
    "import this"
   ]
  },
  {
   "cell_type": "markdown",
   "metadata": {},
   "source": [
    "## Online Hilfe\n",
    "\n",
    "Bei einer Funktion kann mittels angehängem `?` die online Hilfe abgefragt werden"
   ]
  },
  {
   "cell_type": "code",
   "execution_count": 5,
   "metadata": {},
   "outputs": [],
   "source": [
    "len?"
   ]
  },
  {
   "cell_type": "markdown",
   "metadata": {},
   "source": [
    "# Aufgaben"
   ]
  },
  {
   "cell_type": "markdown",
   "metadata": {},
   "source": [
    "## Feature Vektoren und Matrizen\n",
    "\n",
    "\n",
    "1. Erstelle eine Matrix mit dem Inhalt der folgenden Tabelle:\n",
    "\n",
    "|   |   |   | \n",
    "|---|---|---|\n",
    "| 2  | 5  | 8  |   \n",
    "| 3  | 6  | 9  |   \n",
    "| 4  | 7  | 10  |   \n",
    "\n",
    "2. Erstelle dieselbe Matrix mit der numpy Bibliothek (`import numpy as np`)\n",
    "\n",
    "3. Selektiere die zweite Spalte als Vektor / Selektiere die zweite Zeile als Vektor\n",
    "\n",
    "\n",
    "*Links / Referenzen:* \n",
    "- Python Lists https://docs.python.org/3/tutorial/datastructures.html\n",
    "- NumPy Docs: https://numpy.org/doc/stable/"
   ]
  },
  {
   "cell_type": "code",
   "execution_count": null,
   "metadata": {},
   "outputs": [],
   "source": []
  },
  {
   "cell_type": "markdown",
   "metadata": {},
   "source": [
    "## Data\n",
    "\n",
    "1. Lade das Iris Dataset mittels scikit learn (`from sklearn import datasets`)\n",
    "2. Schaue die Daten genauer an. \n",
    "    - Wieviele Samples gibt es? \n",
    "    - Wieviele Klassen gibt es?\n",
    "    - Welche Namen haben die Klassen?\n",
    "    \n",
    "*Links / Referenzen:* \n",
    "- Scikit Learn Toy Datasets https://sklearn.org/datasets/index.html#toy-datasets"
   ]
  },
  {
   "cell_type": "code",
   "execution_count": null,
   "metadata": {},
   "outputs": [],
   "source": []
  }
 ],
 "metadata": {
  "kernelspec": {
   "display_name": "Python 3",
   "language": "python",
   "name": "python3"
  },
  "language_info": {
   "codemirror_mode": {
    "name": "ipython",
    "version": 3
   },
   "file_extension": ".py",
   "mimetype": "text/x-python",
   "name": "python",
   "nbconvert_exporter": "python",
   "pygments_lexer": "ipython3",
   "version": "3.7.3"
  }
 },
 "nbformat": 4,
 "nbformat_minor": 2
}
