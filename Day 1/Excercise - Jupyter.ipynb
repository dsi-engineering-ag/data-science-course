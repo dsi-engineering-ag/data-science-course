{
 "cells": [
  {
   "cell_type": "markdown",
   "metadata": {},
   "source": [
    "<img src=\"https://dsiag.ch/images/dsi_rgb.png\" alt=\"dsi logo\" width=\"100\" style=\"position: absolute; right: 0px;\"/>\n",
    "\n",
    "# Jupyter Notebooks\n",
    "\n",
    "With Jupyter code & documentation can be kept together. "
   ]
  },
  {
   "cell_type": "markdown",
   "metadata": {},
   "source": [
    "## Two types of cells\n",
    "\n",
    "There are two types of cells: Markdown cells and Code cells.\n",
    "\n",
    "New cells are always code cells. Via Cell -> Cell Type -> Markdown you can change them to markdown cells. In command mode (see below), cells can be changed with shortcut `m` to markdown and `y` to code."
   ]
  },
  {
   "cell_type": "markdown",
   "metadata": {},
   "source": [
    "## Code cells\n",
    "\n",
    "\n",
    "\n",
    "In the case of code cells, the output of the last statement is always output under the cell.\n",
    "\n",
    "The cell is executed using Control-Enter \n"
   ]
  },
  {
   "cell_type": "code",
   "execution_count": 24,
   "metadata": {},
   "outputs": [
    {
     "data": {
      "text/plain": [
       "6"
      ]
     },
     "execution_count": 24,
     "metadata": {},
     "output_type": "execute_result"
    }
   ],
   "source": [
    "1+5"
   ]
  },
  {
   "cell_type": "markdown",
   "metadata": {},
   "source": [
    "If several statements are to be output, this can be done using `print ()`"
   ]
  },
  {
   "cell_type": "code",
   "execution_count": 25,
   "metadata": {},
   "outputs": [
    {
     "name": "stdout",
     "output_type": "stream",
     "text": [
      "Das Resultat von 2*3 ist\n",
      "6\n"
     ]
    }
   ],
   "source": [
    "print(\"Das Resultat von 2*3 ist\")\n",
    "\n",
    "print(2*3)"
   ]
  },
  {
   "cell_type": "markdown",
   "metadata": {},
   "source": [
    "## Command palette\n",
    "\n",
    "\n",
    "Control-Shift-C can be used to activate the command palette, where all Jupyter commands can be selected"
   ]
  },
  {
   "cell_type": "markdown",
   "metadata": {},
   "source": [
    "## Two different modes\n",
    "\n",
    "### Command mode\n",
    "\n",
    "In command mode you can switch back and forth between the cells or, for example, new cells can be inserted. Additionally, shortcuts like `m` can be executed.\n",
    "\n",
    "Press `ESC` to switch to command mode.\n",
    "\n",
    "### Edit mode\n",
    "\n",
    "In edit mode cells are edited.\n",
    "\n",
    "To switch to edit mode, press ENTER.\n"
   ]
  },
  {
   "cell_type": "markdown",
   "metadata": {},
   "source": [
    "# Python Cheatsheet\n",
    "\n",
    "https://www.pythoncheatsheet.org/"
   ]
  },
  {
   "cell_type": "markdown",
   "metadata": {},
   "source": [
    "## Online Help\n",
    "\n",
    "On a python function, the online help can be requested using the appended `?`\n"
   ]
  },
  {
   "cell_type": "code",
   "execution_count": 26,
   "metadata": {},
   "outputs": [],
   "source": [
    "len?"
   ]
  },
  {
   "cell_type": "markdown",
   "metadata": {},
   "source": [
    "***\n",
    "\n",
    "<div class=\"alert alert-block alert-success\">\n",
    "<b>Exercise: Play around</b> \n",
    "    \n",
    "Play around with your jupyter notebook. What can you achieve/learn within 10 minutes?\n",
    "    \n",
    "</div>\n",
    "\n",
    "\n",
    "***"
   ]
  }
 ],
 "metadata": {
  "kernelspec": {
   "display_name": "Python 3 (ipykernel)",
   "language": "python",
   "name": "python3"
  },
  "language_info": {
   "codemirror_mode": {
    "name": "ipython",
    "version": 3
   },
   "file_extension": ".py",
   "mimetype": "text/x-python",
   "name": "python",
   "nbconvert_exporter": "python",
   "pygments_lexer": "ipython3",
   "version": "3.11.4"
  }
 },
 "nbformat": 4,
 "nbformat_minor": 4
}
