{
 "cells": [
  {
   "cell_type": "markdown",
   "metadata": {},
   "source": [
    "<img src=\"https://dsiag.ch/images/dsi_rgb.png\" alt=\"dsi logo\" width=\"100\" style=\"position: absolute; right: 0px;\"/>\n",
    "\n",
    "# Electricity production plants - Descriptive Statistics\n",
    "\n",
    "\n"
   ]
  },
  {
   "cell_type": "markdown",
   "metadata": {},
   "source": [
    "\n",
    "Data origins from https://opendata.swiss/en/dataset/elektrizitatsproduktionsanlagen and we use the following .csv files.\n",
    "\n",
    "- ElectricityProductionPlant.csv \n",
    "- MainCategoryCatalogue.csv\n",
    "- SubCategoryCatalogue.csv\n",
    "- PlantCategoryCatalogue.csv\n",
    "\n",
    "\n",
    "![Data Overview](http://yuml.me/64ed9f84.png)"
   ]
  },
  {
   "cell_type": "markdown",
   "metadata": {},
   "source": [
    "### Loading data\n",
    "\n",
    "We use `pd.read_csv` to read the csv files into a `DataFrame`. \n",
    "\n",
    "After reading we set the index to the corresponding column which makes it easier to join tables."
   ]
  },
  {
   "cell_type": "code",
   "execution_count": null,
   "metadata": {},
   "outputs": [],
   "source": [
    "import pandas as pd"
   ]
  },
  {
   "cell_type": "code",
   "execution_count": null,
   "metadata": {},
   "outputs": [],
   "source": [
    "epp = pd.read_csv('../data/ch.bfe.elektrizitaetsproduktionsanlagen/ElectricityProductionPlant.csv').set_index('xtf_id')\n",
    "mainCat = pd.read_csv('../data/ch.bfe.elektrizitaetsproduktionsanlagen/MainCategoryCatalogue.csv').set_index('Catalogue_id')\n",
    "subCat = pd.read_csv('../data/ch.bfe.elektrizitaetsproduktionsanlagen/SubCategoryCatalogue.csv').set_index('Catalogue_id')\n",
    "plantCat = pd.read_csv('../data/ch.bfe.elektrizitaetsproduktionsanlagen/PlantCategoryCatalogue.csv').set_index('Catalogue_id')\n",
    "\n",
    "\n",
    "[display(d.head()) for d in [epp, mainCat, subCat,  plantCat]]"
   ]
  },
  {
   "cell_type": "markdown",
   "metadata": {},
   "source": [
    "***\n",
    "\n",
    "<div class=\"alert alert-block alert-success\">\n",
    "<b>Exercise: Mode, mean and median</b> \n",
    "\n",
    "1. Mode: Which municipality has the most electricity power plants? Select all power plants with this municipality.\n",
    "2. Mean: What is the mean total power of all power plants in Switzerland?\n",
    "3. Median: What is the median total power of all power plants in Switzerland? Can you explain why it is so different from the mean?\n",
    "4. (Optional): Calculate the mean and median total power for each main category. Where is the largest difference\n",
    "    \n",
    "\n",
    "</div>\n",
    "\n",
    "***\n"
   ]
  },
  {
   "cell_type": "code",
   "execution_count": null,
   "metadata": {},
   "outputs": [],
   "source": []
  },
  {
   "cell_type": "markdown",
   "metadata": {},
   "source": [
    "### Merge Sub Tables\n",
    "\n",
    "To simplify the understanding of the categories we join the names of the categories into the main power plant table"
   ]
  },
  {
   "cell_type": "code",
   "execution_count": null,
   "metadata": {},
   "outputs": [],
   "source": [
    "lang='de'\n",
    "\n",
    "epp = epp.merge(mainCat[lang].rename(\"MainCategoryName\"),how='left', left_on='MainCategory', right_index=True)\n",
    "epp = epp.merge(subCat[lang].rename(\"SubCategoryName\"),how='left', left_on='SubCategory', right_index=True)\n",
    "epp = epp.merge(plantCat[lang].rename(\"PlantCategoryName\"),how='left', left_on='PlantCategory', right_index=True)\n"
   ]
  },
  {
   "cell_type": "markdown",
   "metadata": {},
   "source": [
    "***\n",
    "\n",
    "<div class=\"alert alert-block alert-success\">\n",
    "<b>Exercise: Count absolute frequencies for categories</b> \n",
    "\n",
    "1. Count the absolute frequencies for main categories. Which category has the most power plants?\n",
    "2. Count the absolute frequencies for main and sub categories. Which category/sub-category has the most power plants?\n",
    "\n",
    "**Notes**: \n",
    "- *use [.groupby](https://pandas.pydata.org/pandas-docs/stable/reference/api/pandas.DataFrame.groupby.html) to group by one ore multiple categories* \n",
    "- *use [.count](https://pandas.pydata.org/pandas-docs/stable/reference/api/pandas.DataFrame.count.html) to count the frequencies*\n",
    "- *use [.agg](https://pandas.pydata.org/pandas-docs/stable/reference/api/pandas.DataFrame.agg.html) to aggregate in multiple ways (e.g. sum, count) etc.*\n",
    "- *use [pd.merge](https://pandas.pydata.org/pandas-docs/stable/reference/api/pandas.DataFrame.merge.html) to join two Series into a DataFrame*\n",
    "</div>\n",
    "\n",
    "***\n"
   ]
  },
  {
   "cell_type": "code",
   "execution_count": null,
   "metadata": {},
   "outputs": [],
   "source": []
  }
 ],
 "metadata": {
  "kernelspec": {
   "display_name": "Python 3 (ipykernel)",
   "language": "python",
   "name": "python3"
  },
  "language_info": {
   "codemirror_mode": {
    "name": "ipython",
    "version": 3
   },
   "file_extension": ".py",
   "mimetype": "text/x-python",
   "name": "python",
   "nbconvert_exporter": "python",
   "pygments_lexer": "ipython3",
   "version": "3.11.4"
  }
 },
 "nbformat": 4,
 "nbformat_minor": 4
}
