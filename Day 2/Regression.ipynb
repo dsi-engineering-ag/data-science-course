{
 "cells": [
  {
   "cell_type": "markdown",
   "id": "de8bdcfe",
   "metadata": {},
   "source": [
    "<img src=\"https://dsiag.ch/images/dsi_rgb.png\" alt=\"dsi logo\" width=\"100\" style=\"position: absolute; right: 0px;\"/>\n",
    "\n",
    "# Regression Plots\n",
    "\n",
    "Try to extrapolate into the future.\n",
    "\n",
    "We want to answer the question ***_'Is it possible to replace the nuclear power plants by 2030 using renewable energy?'_***\n",
    "\n",
    "\n",
    "\n"
   ]
  },
  {
   "cell_type": "markdown",
   "id": "1f228568",
   "metadata": {},
   "source": [
    "## Loading data\n",
    "\n",
    "We use `pd.read_csv` to read the csv files into a `DataFrame`. \n",
    "\n",
    "After reading we set the index to the corresponding column which makes it easier to join tables and join the (sub)-category names in order to have all information in one `epp` table "
   ]
  },
  {
   "cell_type": "code",
   "execution_count": 1,
   "id": "151c6f43",
   "metadata": {},
   "outputs": [
    {
     "data": {
      "text/html": [
       "<div>\n",
       "<style scoped>\n",
       "    .dataframe tbody tr th:only-of-type {\n",
       "        vertical-align: middle;\n",
       "    }\n",
       "\n",
       "    .dataframe tbody tr th {\n",
       "        vertical-align: top;\n",
       "    }\n",
       "\n",
       "    .dataframe thead th {\n",
       "        text-align: right;\n",
       "    }\n",
       "</style>\n",
       "<table border=\"1\" class=\"dataframe\">\n",
       "  <thead>\n",
       "    <tr style=\"text-align: right;\">\n",
       "      <th></th>\n",
       "      <th>Address</th>\n",
       "      <th>PostCode</th>\n",
       "      <th>Municipality</th>\n",
       "      <th>Canton</th>\n",
       "      <th>BeginningOfOperation</th>\n",
       "      <th>InitialPower</th>\n",
       "      <th>TotalPower</th>\n",
       "      <th>MainCategory</th>\n",
       "      <th>SubCategory</th>\n",
       "      <th>PlantCategory</th>\n",
       "      <th>_x</th>\n",
       "      <th>_y</th>\n",
       "      <th>MainCategoryName</th>\n",
       "      <th>SubCategoryName</th>\n",
       "      <th>PlantCategoryName</th>\n",
       "    </tr>\n",
       "    <tr>\n",
       "      <th>xtf_id</th>\n",
       "      <th></th>\n",
       "      <th></th>\n",
       "      <th></th>\n",
       "      <th></th>\n",
       "      <th></th>\n",
       "      <th></th>\n",
       "      <th></th>\n",
       "      <th></th>\n",
       "      <th></th>\n",
       "      <th></th>\n",
       "      <th></th>\n",
       "      <th></th>\n",
       "      <th></th>\n",
       "      <th></th>\n",
       "      <th></th>\n",
       "    </tr>\n",
       "  </thead>\n",
       "  <tbody>\n",
       "    <tr>\n",
       "      <th>5646</th>\n",
       "      <td>Rue des Creusets 41</td>\n",
       "      <td>1948</td>\n",
       "      <td>Fionnay</td>\n",
       "      <td>VS</td>\n",
       "      <td>1958-03-07</td>\n",
       "      <td>1872000.0</td>\n",
       "      <td>1872000.0</td>\n",
       "      <td>maincat_1</td>\n",
       "      <td>subcat_1</td>\n",
       "      <td>plantcat_6</td>\n",
       "      <td>2589880.0</td>\n",
       "      <td>1097661.0</td>\n",
       "      <td>Wasserkraft</td>\n",
       "      <td>Wasserkraft</td>\n",
       "      <td>Pumpspeicherkraftwerk</td>\n",
       "    </tr>\n",
       "    <tr>\n",
       "      <th>5686</th>\n",
       "      <td>Binenweg 5</td>\n",
       "      <td>3904</td>\n",
       "      <td>Naters</td>\n",
       "      <td>VS</td>\n",
       "      <td>1969-09-01</td>\n",
       "      <td>349576.0</td>\n",
       "      <td>349576.0</td>\n",
       "      <td>maincat_1</td>\n",
       "      <td>subcat_1</td>\n",
       "      <td>plantcat_7</td>\n",
       "      <td>2644115.0</td>\n",
       "      <td>1131390.0</td>\n",
       "      <td>Wasserkraft</td>\n",
       "      <td>Wasserkraft</td>\n",
       "      <td>Speicherkraftwerk</td>\n",
       "    </tr>\n",
       "    <tr>\n",
       "      <th>5726</th>\n",
       "      <td>Robbia 504G</td>\n",
       "      <td>7741</td>\n",
       "      <td>San Carlo</td>\n",
       "      <td>GR</td>\n",
       "      <td>1910-11-03</td>\n",
       "      <td>29150.0</td>\n",
       "      <td>29150.0</td>\n",
       "      <td>maincat_1</td>\n",
       "      <td>subcat_1</td>\n",
       "      <td>plantcat_2</td>\n",
       "      <td>2801863.0</td>\n",
       "      <td>1136379.0</td>\n",
       "      <td>Wasserkraft</td>\n",
       "      <td>Wasserkraft</td>\n",
       "      <td>Ausleitkraftwerk</td>\n",
       "    </tr>\n",
       "    <tr>\n",
       "      <th>5727</th>\n",
       "      <td>Via Principale 16</td>\n",
       "      <td>7744</td>\n",
       "      <td>Campocologno</td>\n",
       "      <td>GR</td>\n",
       "      <td>1907-03-01</td>\n",
       "      <td>55000.0</td>\n",
       "      <td>55000.0</td>\n",
       "      <td>maincat_1</td>\n",
       "      <td>subcat_1</td>\n",
       "      <td>plantcat_7</td>\n",
       "      <td>2808646.0</td>\n",
       "      <td>1123676.0</td>\n",
       "      <td>Wasserkraft</td>\n",
       "      <td>Wasserkraft</td>\n",
       "      <td>Speicherkraftwerk</td>\n",
       "    </tr>\n",
       "    <tr>\n",
       "      <th>5730</th>\n",
       "      <td>Büdemli 65B</td>\n",
       "      <td>7240</td>\n",
       "      <td>Küblis</td>\n",
       "      <td>GR</td>\n",
       "      <td>1922-01-01</td>\n",
       "      <td>44200.0</td>\n",
       "      <td>44200.0</td>\n",
       "      <td>maincat_1</td>\n",
       "      <td>subcat_1</td>\n",
       "      <td>plantcat_7</td>\n",
       "      <td>2778481.0</td>\n",
       "      <td>1198505.0</td>\n",
       "      <td>Wasserkraft</td>\n",
       "      <td>Wasserkraft</td>\n",
       "      <td>Speicherkraftwerk</td>\n",
       "    </tr>\n",
       "  </tbody>\n",
       "</table>\n",
       "</div>"
      ],
      "text/plain": [
       "                    Address  PostCode  Municipality Canton  \\\n",
       "xtf_id                                                       \n",
       "5646    Rue des Creusets 41      1948       Fionnay     VS   \n",
       "5686             Binenweg 5      3904        Naters     VS   \n",
       "5726            Robbia 504G      7741     San Carlo     GR   \n",
       "5727      Via Principale 16      7744  Campocologno     GR   \n",
       "5730            Büdemli 65B      7240        Küblis     GR   \n",
       "\n",
       "       BeginningOfOperation  InitialPower  TotalPower MainCategory  \\\n",
       "xtf_id                                                               \n",
       "5646             1958-03-07     1872000.0   1872000.0    maincat_1   \n",
       "5686             1969-09-01      349576.0    349576.0    maincat_1   \n",
       "5726             1910-11-03       29150.0     29150.0    maincat_1   \n",
       "5727             1907-03-01       55000.0     55000.0    maincat_1   \n",
       "5730             1922-01-01       44200.0     44200.0    maincat_1   \n",
       "\n",
       "       SubCategory PlantCategory         _x         _y MainCategoryName  \\\n",
       "xtf_id                                                                    \n",
       "5646      subcat_1    plantcat_6  2589880.0  1097661.0      Wasserkraft   \n",
       "5686      subcat_1    plantcat_7  2644115.0  1131390.0      Wasserkraft   \n",
       "5726      subcat_1    plantcat_2  2801863.0  1136379.0      Wasserkraft   \n",
       "5727      subcat_1    plantcat_7  2808646.0  1123676.0      Wasserkraft   \n",
       "5730      subcat_1    plantcat_7  2778481.0  1198505.0      Wasserkraft   \n",
       "\n",
       "       SubCategoryName      PlantCategoryName  \n",
       "xtf_id                                         \n",
       "5646       Wasserkraft  Pumpspeicherkraftwerk  \n",
       "5686       Wasserkraft      Speicherkraftwerk  \n",
       "5726       Wasserkraft       Ausleitkraftwerk  \n",
       "5727       Wasserkraft      Speicherkraftwerk  \n",
       "5730       Wasserkraft      Speicherkraftwerk  "
      ]
     },
     "metadata": {},
     "output_type": "display_data"
    }
   ],
   "source": [
    "import pandas as pd\n",
    "import seaborn as sns\n",
    "import matplotlib.pyplot as plt\n",
    "import numpy as np\n",
    "from datetime import date\n",
    "\n",
    "\n",
    "plt.rcParams[\"figure.figsize\"] = (20, 10)\n",
    "\n",
    "epp = pd.read_csv('../data/ch.bfe.elektrizitaetsproduktionsanlagen/ElectricityProductionPlant.csv', parse_dates=['BeginningOfOperation']).set_index('xtf_id')\n",
    "mainCat = pd.read_csv('../data/ch.bfe.elektrizitaetsproduktionsanlagen/MainCategoryCatalogue.csv').set_index('Catalogue_id')\n",
    "subCat = pd.read_csv('../data/ch.bfe.elektrizitaetsproduktionsanlagen/SubCategoryCatalogue.csv').set_index('Catalogue_id')\n",
    "plantCat = pd.read_csv('../data/ch.bfe.elektrizitaetsproduktionsanlagen/PlantCategoryCatalogue.csv').set_index('Catalogue_id')\n",
    "\n",
    "lang='de'\n",
    "\n",
    "epp = epp.merge(mainCat[lang].rename(\"MainCategoryName\"),how='left', left_on='MainCategory', right_index=True)\n",
    "epp = epp.merge(subCat[lang].rename(\"SubCategoryName\"),how='left', left_on='SubCategory', right_index=True)\n",
    "epp = epp.merge(plantCat[lang].rename(\"PlantCategoryName\"),how='left', left_on='PlantCategory', right_index=True)\n",
    "\n",
    "display(epp.head())"
   ]
  },
  {
   "cell_type": "markdown",
   "id": "96af4fe3",
   "metadata": {},
   "source": [
    "## Calculate current Total Power "
   ]
  },
  {
   "cell_type": "code",
   "execution_count": 2,
   "id": "e8835bf3",
   "metadata": {},
   "outputs": [
    {
     "name": "stdout",
     "output_type": "stream",
     "text": [
      "\n",
      "Currently installed power: 22249583.020000003\n"
     ]
    }
   ],
   "source": [
    "current_power = epp['TotalPower'].sum()\n",
    "\n",
    "print()\n",
    "print(\"Currently installed power:\", current_power)"
   ]
  },
  {
   "cell_type": "markdown",
   "id": "f6da6689",
   "metadata": {},
   "source": [
    "## Calculate Cumulative Total Power per Time\n",
    "\n",
    "In order to plot the increasing total installed power we need to calculate the cumulative sum."
   ]
  },
  {
   "cell_type": "code",
   "execution_count": 4,
   "id": "3dfca771",
   "metadata": {},
   "outputs": [],
   "source": [
    "power_without_nuclear_plants = epp[(epp['MainCategory'] != 'maincat_3') & (epp['MainCategory'] != 'maincat_4')].groupby(['BeginningOfOperation'], as_index=False)['TotalPower' ].sum().sort_index().replace(np.nan, 0)\n",
    "power_without_nuclear_plants['BeginningOfOperationFloat'] = pd.to_datetime(power_without_nuclear_plants['BeginningOfOperation']).apply(lambda date: date.toordinal())\n"
   ]
  },
  {
   "cell_type": "markdown",
   "id": "6c4dc4b5",
   "metadata": {},
   "source": [
    "\n",
    "<div class=\"alert alert-block alert-success\">\n",
    "<b>Exercise: Calculate the cumulative sum over the total power</b> \n",
    "\n",
    "Add an additional column 'Cumulative' to our data frame 'power_without_atomic_plants', which contains the cumulative sum of the total power. To calculate the cumulative sum you can use: https://pandas.pydata.org/docs/reference/api/pandas.Series.cumsum.html\n",
    "    \n",
    "</div>"
   ]
  },
  {
   "cell_type": "code",
   "execution_count": 6,
   "id": "ed2909a5",
   "metadata": {},
   "outputs": [
    {
     "data": {
      "text/html": [
       "<div>\n",
       "<style scoped>\n",
       "    .dataframe tbody tr th:only-of-type {\n",
       "        vertical-align: middle;\n",
       "    }\n",
       "\n",
       "    .dataframe tbody tr th {\n",
       "        vertical-align: top;\n",
       "    }\n",
       "\n",
       "    .dataframe thead th {\n",
       "        text-align: right;\n",
       "    }\n",
       "</style>\n",
       "<table border=\"1\" class=\"dataframe\">\n",
       "  <thead>\n",
       "    <tr style=\"text-align: right;\">\n",
       "      <th></th>\n",
       "      <th>BeginningOfOperation</th>\n",
       "      <th>TotalPower</th>\n",
       "      <th>BeginningOfOperationFloat</th>\n",
       "      <th>Cumulative</th>\n",
       "    </tr>\n",
       "  </thead>\n",
       "  <tbody>\n",
       "    <tr>\n",
       "      <th>0</th>\n",
       "      <td>1863-01-01</td>\n",
       "      <td>200.00</td>\n",
       "      <td>680082</td>\n",
       "      <td>200.00</td>\n",
       "    </tr>\n",
       "    <tr>\n",
       "      <th>1</th>\n",
       "      <td>1886-01-01</td>\n",
       "      <td>740.00</td>\n",
       "      <td>688483</td>\n",
       "      <td>940.00</td>\n",
       "    </tr>\n",
       "    <tr>\n",
       "      <th>2</th>\n",
       "      <td>1888-01-01</td>\n",
       "      <td>360.00</td>\n",
       "      <td>689213</td>\n",
       "      <td>1300.00</td>\n",
       "    </tr>\n",
       "    <tr>\n",
       "      <th>3</th>\n",
       "      <td>1890-01-01</td>\n",
       "      <td>240.00</td>\n",
       "      <td>689944</td>\n",
       "      <td>1540.00</td>\n",
       "    </tr>\n",
       "    <tr>\n",
       "      <th>4</th>\n",
       "      <td>1891-01-01</td>\n",
       "      <td>5315.00</td>\n",
       "      <td>690309</td>\n",
       "      <td>6855.00</td>\n",
       "    </tr>\n",
       "    <tr>\n",
       "      <th>...</th>\n",
       "      <td>...</td>\n",
       "      <td>...</td>\n",
       "      <td>...</td>\n",
       "      <td>...</td>\n",
       "    </tr>\n",
       "    <tr>\n",
       "      <th>5859</th>\n",
       "      <td>2021-03-26</td>\n",
       "      <td>228.14</td>\n",
       "      <td>737875</td>\n",
       "      <td>18949937.77</td>\n",
       "    </tr>\n",
       "    <tr>\n",
       "      <th>5860</th>\n",
       "      <td>2021-03-28</td>\n",
       "      <td>29.70</td>\n",
       "      <td>737877</td>\n",
       "      <td>18949967.47</td>\n",
       "    </tr>\n",
       "    <tr>\n",
       "      <th>5861</th>\n",
       "      <td>2021-03-30</td>\n",
       "      <td>171.80</td>\n",
       "      <td>737879</td>\n",
       "      <td>18950139.27</td>\n",
       "    </tr>\n",
       "    <tr>\n",
       "      <th>5862</th>\n",
       "      <td>2021-04-08</td>\n",
       "      <td>7.03</td>\n",
       "      <td>737888</td>\n",
       "      <td>18950146.30</td>\n",
       "    </tr>\n",
       "    <tr>\n",
       "      <th>5863</th>\n",
       "      <td>2021-04-14</td>\n",
       "      <td>104.72</td>\n",
       "      <td>737894</td>\n",
       "      <td>18950251.02</td>\n",
       "    </tr>\n",
       "  </tbody>\n",
       "</table>\n",
       "<p>5864 rows × 4 columns</p>\n",
       "</div>"
      ],
      "text/plain": [
       "     BeginningOfOperation  TotalPower  BeginningOfOperationFloat   Cumulative\n",
       "0              1863-01-01      200.00                     680082       200.00\n",
       "1              1886-01-01      740.00                     688483       940.00\n",
       "2              1888-01-01      360.00                     689213      1300.00\n",
       "3              1890-01-01      240.00                     689944      1540.00\n",
       "4              1891-01-01     5315.00                     690309      6855.00\n",
       "...                   ...         ...                        ...          ...\n",
       "5859           2021-03-26      228.14                     737875  18949937.77\n",
       "5860           2021-03-28       29.70                     737877  18949967.47\n",
       "5861           2021-03-30      171.80                     737879  18950139.27\n",
       "5862           2021-04-08        7.03                     737888  18950146.30\n",
       "5863           2021-04-14      104.72                     737894  18950251.02\n",
       "\n",
       "[5864 rows x 4 columns]"
      ]
     },
     "execution_count": 6,
     "metadata": {},
     "output_type": "execute_result"
    }
   ],
   "source": [
    "power_without_nuclear_plants['Cumulative'] = power_without_nuclear_plants['TotalPower'].cumsum()\n",
    "power_without_nuclear_plants\n",
    "\n"
   ]
  },
  {
   "cell_type": "markdown",
   "id": "22781d8d",
   "metadata": {},
   "source": [
    "### Create a Regression Plot \n",
    "\n",
    "\n",
    "<div class=\"alert alert-block alert-success\">\n",
    "<b>Exercise: Create a regression plot</b> \n",
    "\n",
    "1. Create a regression plot with <i>BeginningOfOpreationFloat</i> as x and <i>Cumulative</i> as y. Do you agree with the trend outlined by the regression?\n",
    "    \n",
    "2. Extrapolate to the future. Set parameter truncate=True for your regression plot and increase the plotted size : `reg.set(xlim=(pd.to_datetime(np.datetime64('2000-01-01', 'ns')).toordinal(), pd.to_datetime(np.datetime64('2030-01-01', 'ns')).toordinal()))`\n",
    "    \n",
    "3. Change the parameter order of your `regplot`. How does the regression adjust?\n",
    "\n",
    "4. Check if we reach our goal to fully replace the nuclear power plants. Add a horizontal line showing the `current_power` we calculated earlier. Do we reach our goal? Hint: Use `reg.axhline`\n",
    "    \n",
    "5. (Optional) Do your regression only with data from the last 10 years. \n",
    "\n",
    "    \n",
    "Hint: To receive prettier X-tick-labels you can use: `reg.set_xticklabels([date.fromordinal(int(item)) for item in reg.get_xticks()])`\n",
    "</div>\n"
   ]
  },
  {
   "cell_type": "markdown",
   "id": "1fe17c41",
   "metadata": {},
   "source": [
    "## Solution Ex 1-4"
   ]
  },
  {
   "cell_type": "code",
   "execution_count": 16,
   "id": "2be35b21",
   "metadata": {},
   "outputs": [
    {
     "name": "stderr",
     "output_type": "stream",
     "text": [
      "<ipython-input-16-917fd0128f53>:4: UserWarning: FixedFormatter should only be used together with FixedLocator\n",
      "  reg.set_xticklabels([date.fromordinal(int(item)) for item in reg.get_xticks()])\n"
     ]
    },
    {
     "data": {
      "text/plain": [
       "<matplotlib.lines.Line2D at 0x7f7c54674c40>"
      ]
     },
     "execution_count": 16,
     "metadata": {},
     "output_type": "execute_result"
    },
    {
     "data": {
      "image/png": "[encoded data removed]",
      "text/plain": [
       "<Figure size 1440x720 with 1 Axes>"
      ]
     },
     "metadata": {
      "needs_background": "light"
     },
     "output_type": "display_data"
    }
   ],
   "source": [
    "reg = sns.regplot(x='BeginningOfOperationFloat', y='Cumulative', data=power_without_nuclear_plants, order=1, truncate=False)\n",
    "reg.set(xlim=(pd.to_datetime(np.datetime64('2000-01-01', 'ns')).toordinal(), pd.to_datetime(np.datetime64('2030-01-01', 'ns')).toordinal()))\n",
    "reg.set(ylim=(1.3*1e7,3*1e7))\n",
    "reg.set_xticklabels([date.fromordinal(int(item)) for item in reg.get_xticks()])\n",
    "reg.axhline(current_power, ls='--')\n"
   ]
  },
  {
   "cell_type": "markdown",
   "id": "fb7b0f3f",
   "metadata": {},
   "source": [
    "## Solution EX 05: Data Last 10 years"
   ]
  },
  {
   "cell_type": "code",
   "execution_count": 20,
   "id": "bad5b67c",
   "metadata": {},
   "outputs": [
    {
     "name": "stderr",
     "output_type": "stream",
     "text": [
      "<ipython-input-20-221198d7168e>:10: UserWarning: FixedFormatter should only be used together with FixedLocator\n",
      "  reg.set_xticklabels([date.fromordinal(int(item)) for item in reg.get_xticks()])\n"
     ]
    },
    {
     "data": {
      "text/plain": [
       "<matplotlib.lines.Line2D at 0x7f7c5438c700>"
      ]
     },
     "execution_count": 20,
     "metadata": {},
     "output_type": "execute_result"
    },
    {
     "data": {
      "image/png": "[encoded data removed]",
      "text/plain": [
       "<Figure size 1440x720 with 1 Axes>"
      ]
     },
     "metadata": {
      "needs_background": "light"
     },
     "output_type": "display_data"
    }
   ],
   "source": [
    "data_10years = power_without_nuclear_plants[\n",
    "    (power_without_nuclear_plants['BeginningOfOperationFloat'] > pd.to_datetime(np.datetime64('2010-01-01', 'ns')).toordinal()) &\n",
    "    (power_without_nuclear_plants['BeginningOfOperationFloat'] < pd.to_datetime(np.datetime64('2021-01-01', 'ns')).toordinal())]\n",
    "\n",
    "plt.figure()\n",
    "plt.xlim(pd.to_datetime(np.datetime64('2010-01-01', 'ns')).toordinal(), pd.to_datetime(np.datetime64('2030-01-01', 'ns')).toordinal())\n",
    "\n",
    "reg = sns.regplot(x=data_10years['BeginningOfOperationFloat'], y=data_10years['Cumulative'], order=1, truncate=False)\n",
    "reg.set(ylim=(1.3*1e7,3*1e7))\n",
    "reg.set_xticklabels([date.fromordinal(int(item)) for item in reg.get_xticks()])\n",
    "reg.axhline(current_power, ls='--')\n",
    "\n"
   ]
  }
 ],
 "metadata": {
  "kernelspec": {
   "display_name": "Python 3",
   "language": "python",
   "name": "python3"
  },
  "language_info": {
   "codemirror_mode": {
    "name": "ipython",
    "version": 3
   },
   "file_extension": ".py",
   "mimetype": "text/x-python",
   "name": "python",
   "nbconvert_exporter": "python",
   "pygments_lexer": "ipython3",
   "version": "3.8.8"
  }
 },
 "nbformat": 4,
 "nbformat_minor": 5
}
