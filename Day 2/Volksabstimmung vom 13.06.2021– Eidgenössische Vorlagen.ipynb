{
 "cells": [
  {
   "cell_type": "markdown",
   "id": "2f82b704",
   "metadata": {},
   "source": [
    "<img src=\"https://dsiag.ch/images/dsi_rgb.png\" alt=\"dsi logo\" width=\"100\" style=\"position: absolute; right: 0px;\"/>\n",
    "\n",
    "# Volksabstimmung vom 13.06.2021– Eidgenössische Vorlagen\n",
    "\n",
    "https://opendata.swiss/de/dataset/echtzeitdaten-am-abstimmungstag-zu-eidgenoessischen-abstimmungsvorlagen/resource/964e6c70-c3af-4c25-8d1b-88be1ea30d02"
   ]
  },
  {
   "cell_type": "code",
   "execution_count": null,
   "id": "286c048e",
   "metadata": {},
   "outputs": [],
   "source": [
    "import pandas as pd\n",
    "import seaborn as sns\n",
    "import matplotlib.pyplot as plt\n",
    "import numpy as np\n",
    "import urllib.request\n",
    "import json\n",
    "import gzip\n",
    "\n",
    "plt.rcParams[\"figure.figsize\"] = (20, 10) \n",
    "\n",
    "\n",
    "def getJsonData(url):\n",
    "    operUrl = urllib.request.urlopen(url)\n",
    "    if(operUrl.getcode()==200):\n",
    "        data = gzip.decompress(operUrl.read())\n",
    "        jsonData = json.loads(data)\n",
    "    else:\n",
    "        print(\"Error receiving data\", operUrl.getcode())\n",
    "    return jsonData\n",
    "\n",
    "url='https://app-prod-static-voteinfo.s3.eu-central-1.amazonaws.com/v1/ogd/sd-t-17-02-20230618-eidgAbstimmung.json'\n",
    "\n",
    "jsonData = getJsonData(url)"
   ]
  },
  {
   "cell_type": "code",
   "execution_count": null,
   "id": "ad823443",
   "metadata": {},
   "outputs": [],
   "source": [
    "vorlage0 = jsonData['schweiz']['vorlagen'][0]\n",
    "\n",
    "kantone = vorlage0['kantone']\n",
    "\n",
    "json.dumps(kantone)"
   ]
  },
  {
   "cell_type": "code",
   "execution_count": null,
   "id": "799f6db7",
   "metadata": {},
   "outputs": [],
   "source": [
    "pd.read_json(json.dumps(kantone)).explode('gemeinden')"
   ]
  },
  {
   "cell_type": "code",
   "execution_count": null,
   "id": "7e8244ce",
   "metadata": {},
   "outputs": [],
   "source": [
    "pd.json_normalize(kantone)"
   ]
  }
 ],
 "metadata": {
  "kernelspec": {
   "display_name": "Python 3 (ipykernel)",
   "language": "python",
   "name": "python3"
  },
  "language_info": {
   "codemirror_mode": {
    "name": "ipython",
    "version": 3
   },
   "file_extension": ".py",
   "mimetype": "text/x-python",
   "name": "python",
   "nbconvert_exporter": "python",
   "pygments_lexer": "ipython3",
   "version": "3.11.4"
  }
 },
 "nbformat": 4,
 "nbformat_minor": 5
}
